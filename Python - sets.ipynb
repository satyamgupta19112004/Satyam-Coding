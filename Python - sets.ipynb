{
 "cells": [
  {
   "cell_type": "markdown",
   "id": "7c5cdb9d-75b7-4002-9916-87c2299d45c7",
   "metadata": {},
   "source": [
    "Q1. What is a set in Python?"
   ]
  },
  {
   "cell_type": "markdown",
   "id": "08b061b1-d3c9-4e4b-835d-e8f094ba684a",
   "metadata": {},
   "source": [
    "In Python, a set is an unordered collection of unique elements. Sets are similar to lists and tuples but have some key differences:\n",
    "\n",
    "Uniqueness: A set does not allow duplicate elements. It stores each unique element only once.\n",
    "\n",
    "Order: Unlike lists and tuples, sets are unordered, meaning that the elements do not have a specific order. You cannot access elements in a set by index.\n",
    "\n",
    "Mutability: Sets are mutable, which means you can add and remove elements from a set after it's created.\n",
    "\n",
    "Syntax: Sets are defined using curly braces {} or the set() constructor."
   ]
  },
  {
   "cell_type": "code",
   "execution_count": 1,
   "id": "dbea623d-b862-4545-be67-5e5ac07e6046",
   "metadata": {},
   "outputs": [],
   "source": [
    "my_set = {1, 2, 3}\n"
   ]
  },
  {
   "cell_type": "markdown",
   "id": "5de445b5-22b5-4bbb-ac2c-a6ed88cdbf89",
   "metadata": {},
   "source": [
    "Q2.How do you create a set in Python?"
   ]
  },
  {
   "cell_type": "code",
   "execution_count": 2,
   "id": "433b2716-36dd-4965-b44f-e99308a0719c",
   "metadata": {},
   "outputs": [],
   "source": [
    "my_set = set([1, 2, 3])\n"
   ]
  },
  {
   "cell_type": "code",
   "execution_count": 4,
   "id": "9ee85abc-4376-444c-a2a9-8a344cffb35e",
   "metadata": {},
   "outputs": [],
   "source": [
    "my_set = {1, 2, 3}\n"
   ]
  },
  {
   "cell_type": "code",
   "execution_count": 5,
   "id": "4c6953db-42c1-4ba8-90d3-211ef0a38588",
   "metadata": {},
   "outputs": [],
   "source": [
    "\n",
    "my_set1 = {1, 2, 3}\n",
    "\n",
    "\n",
    "my_set2 = set([4, 5, 6])\n",
    "\n",
    "\n",
    "my_set3 = set((7, 8, 9))\n"
   ]
  },
  {
   "cell_type": "markdown",
   "id": "d59d2a16-3b96-4f8e-862a-488ff74899bf",
   "metadata": {},
   "source": [
    "Q3. How do you add elements to a set in Python?"
   ]
  },
  {
   "cell_type": "code",
   "execution_count": 6,
   "id": "badd889a-f6f7-44dd-852e-56edc881e8d7",
   "metadata": {},
   "outputs": [
    {
     "name": "stdout",
     "output_type": "stream",
     "text": [
      "{1, 2, 3, 4, 5, 6}\n"
     ]
    }
   ],
   "source": [
    "my_set = {1, 2, 3}\n",
    "\n",
    "\n",
    "my_set.add(4)\n",
    "\n",
    "\n",
    "my_set.update([3, 4, 5, 6])\n",
    "\n",
    "print(my_set)\n"
   ]
  },
  {
   "cell_type": "markdown",
   "id": "a7446929-d468-47ac-aa23-67903ea00080",
   "metadata": {},
   "source": [
    "Q4. How do you remove elements from a set in Python?"
   ]
  },
  {
   "cell_type": "code",
   "execution_count": 7,
   "id": "f97fe237-c996-4f04-afab-abc04d5a080a",
   "metadata": {},
   "outputs": [],
   "source": [
    "my_set = {1, 2, 3, 4}\n",
    "my_set.remove(3)\n"
   ]
  },
  {
   "cell_type": "code",
   "execution_count": 8,
   "id": "f9194c04-3c4f-4311-abad-cf94a3ae356c",
   "metadata": {},
   "outputs": [],
   "source": [
    "my_set = {1, 2, 3, 4}\n",
    "my_set.discard(3)\n"
   ]
  },
  {
   "cell_type": "code",
   "execution_count": 9,
   "id": "8ad18c90-f425-4aa6-9e0c-b271247f0875",
   "metadata": {},
   "outputs": [],
   "source": [
    "my_set = {1, 2, 3, 4}\n",
    "removed_element = my_set.pop()\n"
   ]
  },
  {
   "cell_type": "code",
   "execution_count": 10,
   "id": "0d02bcec-5ad7-4e6d-945d-ae861c5e5618",
   "metadata": {},
   "outputs": [],
   "source": [
    "my_set = {1, 2, 3, 4}\n",
    "my_set.clear()\n"
   ]
  },
  {
   "cell_type": "markdown",
   "id": "0ac14036-291d-4bda-a8d1-eb386b61b9d6",
   "metadata": {},
   "source": [
    "Q5. How do you get the length of a set in Python?"
   ]
  },
  {
   "cell_type": "code",
   "execution_count": 11,
   "id": "f4b7f871-5178-4acd-af6d-ac28dd58346a",
   "metadata": {},
   "outputs": [],
   "source": [
    "my_set = {1, 2, 3, 4, 5}\n",
    "length = len(my_set)\n"
   ]
  },
  {
   "cell_type": "code",
   "execution_count": null,
   "id": "a38a44f8-ed31-4f90-9efc-c54b3afe0235",
   "metadata": {},
   "outputs": [],
   "source": []
  }
 ],
 "metadata": {
  "kernelspec": {
   "display_name": "Python 3 (ipykernel)",
   "language": "python",
   "name": "python3"
  },
  "language_info": {
   "codemirror_mode": {
    "name": "ipython",
    "version": 3
   },
   "file_extension": ".py",
   "mimetype": "text/x-python",
   "name": "python",
   "nbconvert_exporter": "python",
   "pygments_lexer": "ipython3",
   "version": "3.10.8"
  }
 },
 "nbformat": 4,
 "nbformat_minor": 5
}
