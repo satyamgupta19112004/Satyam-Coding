{
 "cells": [
  {
   "cell_type": "markdown",
   "id": "57433f26-da65-40f6-ad5c-82bbafab63e2",
   "metadata": {},
   "source": [
    "Q1. What is a tuple in Python?"
   ]
  },
  {
   "cell_type": "code",
   "execution_count": 1,
   "id": "19dab870-8f33-4f17-b564-de12d9d4c00a",
   "metadata": {},
   "outputs": [],
   "source": [
    "my_tuple = (1, 2, 3, 'apple', 2.5)\n"
   ]
  },
  {
   "cell_type": "markdown",
   "id": "9553fc58-dd38-49f2-8b68-4652809f0065",
   "metadata": {},
   "source": [
    "Q2. How do you create a tuple in Python?"
   ]
  },
  {
   "cell_type": "code",
   "execution_count": 2,
   "id": "5e865c5c-43f2-4a4b-8fa6-623895ccd8d1",
   "metadata": {},
   "outputs": [],
   "source": [
    "my_tuple = (1, 2, 3, 'apple', 2.5)\n"
   ]
  },
  {
   "cell_type": "code",
   "execution_count": 3,
   "id": "797a0929-9920-4877-b4bf-a5c513491756",
   "metadata": {},
   "outputs": [],
   "source": [
    "my_tuple = tuple([1, 2, 3, 'apple', 2.5])\n"
   ]
  },
  {
   "cell_type": "markdown",
   "id": "ba25f44b-5176-44f2-a673-4a402781bba5",
   "metadata": {},
   "source": [
    "Q3. What is the difference between a tuple and a list in Python?"
   ]
  },
  {
   "cell_type": "markdown",
   "id": "e7bcab47-ffd5-4bbe-b54d-981960f69ee2",
   "metadata": {},
   "source": [
    "Tuples and lists in Python are both used to store collections of elements, but they have several key differences:\n",
    "\n",
    "Mutability:\n",
    "\n",
    "Tuple: Tuples are immutable, which means their elements cannot be modified or changed after creation. Once you create a tuple, you cannot add, remove, or update elements.\n",
    "List: Lists are mutable, which means you can modify their elements. You can add elements, remove elements, and change the values of existing elements in a list.\n",
    "Syntax:\n",
    "\n",
    "Tuple: Tuples are typically defined using parentheses () and a comma-separated sequence of elements. For example: (1, 2, 3)\n",
    "List: Lists are defined using square brackets [] and a comma-separated sequence of elements. For example: [1, 2, 3]\n",
    "Performance:\n",
    "\n",
    "Tuple: Because tuples are immutable, they are generally faster and more memory-efficient than lists for certain operations, especially when dealing with large collections of data.\n",
    "List: Lists may have slightly more overhead due to their mutability.\n",
    "Use Cases:\n",
    "\n",
    "Tuple: Tuples are often used when you want to group related pieces of data together and ensure that the data remains unchanged. They are suitable for situations where you don't want the elements to be accidentally modified.\n",
    "List: Lists are used when you need a collection that can be modified, such as when you want to add, remove, or change elements during program execution.\n",
    "Iterability:\n",
    "\n",
    "Tuple: Tuples are iterable, which means you can loop through their elements using a for loop or other iterable operations.\n",
    "List: Lists are iterable as well, and you can perform the same iterable operations on them.\n",
    "Methods and Functions:\n",
    "\n",
    "Tuple: Tuples have fewer built-in methods compared to lists since they are immutable. Common methods like count() and index() are available.\n",
    "List: Lists have a broader range of built-in methods and functions due to their mutability, allowing you to manipulate and modify the data within the list."
   ]
  },
  {
   "cell_type": "markdown",
   "id": "b9e55c4e-0ee0-4471-a8cb-a4d5d7f46bbc",
   "metadata": {},
   "source": [
    "Q4. Can a tuple be changed in Python?"
   ]
  },
  {
   "cell_type": "code",
   "execution_count": 7,
   "id": "6bcb17c3-7048-46da-803a-6e6ff37a8ad5",
   "metadata": {},
   "outputs": [
    {
     "ename": "TypeError",
     "evalue": "'tuple' object does not support item assignment",
     "output_type": "error",
     "traceback": [
      "\u001b[0;31m---------------------------------------------------------------------------\u001b[0m",
      "\u001b[0;31mTypeError\u001b[0m                                 Traceback (most recent call last)",
      "Cell \u001b[0;32mIn[7], line 2\u001b[0m\n\u001b[1;32m      1\u001b[0m my_tuple \u001b[38;5;241m=\u001b[39m (\u001b[38;5;241m1\u001b[39m, \u001b[38;5;241m2\u001b[39m, \u001b[38;5;241m3\u001b[39m)\n\u001b[0;32m----> 2\u001b[0m \u001b[43mmy_tuple\u001b[49m\u001b[43m[\u001b[49m\u001b[38;5;241;43m0\u001b[39;49m\u001b[43m]\u001b[49m \u001b[38;5;241m=\u001b[39m \u001b[38;5;241m4\u001b[39m \n",
      "\u001b[0;31mTypeError\u001b[0m: 'tuple' object does not support item assignment"
     ]
    }
   ],
   "source": [
    "my_tuple = (1, 2, 3)\n",
    "my_tuple[0] = 4 "
   ]
  },
  {
   "cell_type": "markdown",
   "id": "7a67f880-f730-409a-8074-7a22af308656",
   "metadata": {},
   "source": [
    "Q5. How do you access elements in a tuple?"
   ]
  },
  {
   "cell_type": "code",
   "execution_count": 8,
   "id": "2c10eaef-568c-449b-8582-c0842bb31250",
   "metadata": {},
   "outputs": [],
   "source": [
    "my_tuple = (1, 2, 3, 'apple', 2.5)\n",
    "\n",
    "first_element = my_tuple[0]     \n",
    "second_element = my_tuple[1]    \n",
    "third_element = my_tuple[2]      \n",
    "fourth_element = my_tuple[3]     "
   ]
  },
  {
   "cell_type": "code",
   "execution_count": 9,
   "id": "1b8ff14b-2ec1-429c-8827-3af35b6a8a30",
   "metadata": {},
   "outputs": [],
   "source": [
    "my_tuple = (1, 2, 3, 'apple', 2.5)\n",
    "\n",
    "last_element = my_tuple[-1]     \n",
    "second_last_element = my_tuple[-2] \n"
   ]
  },
  {
   "cell_type": "code",
   "execution_count": 10,
   "id": "ae950e29-132a-49fa-be36-f53a324f7987",
   "metadata": {},
   "outputs": [],
   "source": [
    "my_tuple = (1, 2, 3, 4, 5)\n",
    "\n",
    "sliced_tuple = my_tuple[1:4] \n"
   ]
  },
  {
   "cell_type": "markdown",
   "id": "2af68e17-749a-482d-802f-855e9ba8ae2d",
   "metadata": {},
   "source": [
    "Q6. How do you unpack a tuple in Python?"
   ]
  },
  {
   "cell_type": "code",
   "execution_count": 11,
   "id": "a9f6145a-b2a6-433e-ab33-f0a1de4c4ba4",
   "metadata": {},
   "outputs": [],
   "source": [
    "my_tuple = (1, 2, 3, 4, 5)\n",
    "\n",
    "\n",
    "first, second, *_ = my_tuple\n",
    "\n",
    "\n"
   ]
  },
  {
   "cell_type": "code",
   "execution_count": null,
   "id": "b9c2969c-b7d2-4fd5-9472-e51bf86c7625",
   "metadata": {},
   "outputs": [],
   "source": []
  }
 ],
 "metadata": {
  "kernelspec": {
   "display_name": "Python 3 (ipykernel)",
   "language": "python",
   "name": "python3"
  },
  "language_info": {
   "codemirror_mode": {
    "name": "ipython",
    "version": 3
   },
   "file_extension": ".py",
   "mimetype": "text/x-python",
   "name": "python",
   "nbconvert_exporter": "python",
   "pygments_lexer": "ipython3",
   "version": "3.10.8"
  }
 },
 "nbformat": 4,
 "nbformat_minor": 5
}
