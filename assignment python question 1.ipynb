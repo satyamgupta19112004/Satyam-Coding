{
 "cells": [
  {
   "cell_type": "markdown",
   "id": "a30a46ea-651f-4b03-9ea8-4cc7a6a5556d",
   "metadata": {},
   "source": [
    "             ASSIGNMENT PYTHON QUESTION"
   ]
  },
  {
   "cell_type": "markdown",
   "id": "d54d5c7d-fa84-4b50-a075-1b3aefa00765",
   "metadata": {},
   "source": [
    "Q1. Which keyword is used to create a function? Create a function to return a list of odd numbers in the\n",
    "range of 1 to 25."
   ]
  },
  {
   "cell_type": "code",
   "execution_count": 1,
   "id": "3db6a617-288e-4a04-8995-19dac7236f83",
   "metadata": {},
   "outputs": [
    {
     "name": "stdout",
     "output_type": "stream",
     "text": [
      "[1, 3, 5, 7, 9, 11, 13, 15, 17, 19, 21, 23, 25]\n"
     ]
    }
   ],
   "source": [
    "def get_odd_numbers():\n",
    "    odd_numbers = []\n",
    "    for number in range(1, 26):\n",
    "        if number % 2 != 0:\n",
    "            odd_numbers.append(number)\n",
    "    return odd_numbers\n",
    "\n",
    "# Call the function and store the result in a variable\n",
    "odd_numbers_list = get_odd_numbers()\n",
    "\n",
    "# Print the list of odd numbers\n",
    "print(odd_numbers_list)\n"
   ]
  },
  {
   "cell_type": "code",
   "execution_count": null,
   "id": "fd2b5ea4-b1f2-4c94-8177-7c9b15609069",
   "metadata": {},
   "outputs": [],
   "source": []
  },
  {
   "cell_type": "markdown",
   "id": "fce09b5c-8ddf-4685-a2cc-f9899701458c",
   "metadata": {},
   "source": [
    "Q2. Why *args and **kwargs is used in some functions? Create a function each for *args and **kwargs\n",
    "to demonstrate their use."
   ]
  },
  {
   "cell_type": "markdown",
   "id": "ce5d3639-8a15-4568-8f69-925aad6207f1",
   "metadata": {},
   "source": [
    " ANS = Here's an example function that uses *args to calculate the sum of all the arguments passed to it:\n",
    "\n",
    "python"
   ]
  },
  {
   "cell_type": "code",
   "execution_count": 2,
   "id": "8a15d651-f7b8-448b-9d72-f39f9c8ea1aa",
   "metadata": {},
   "outputs": [
    {
     "name": "stdout",
     "output_type": "stream",
     "text": [
      "15\n"
     ]
    }
   ],
   "source": [
    "def sum_all_args(*args):\n",
    "    total = 0\n",
    "    for arg in args:\n",
    "        total += arg\n",
    "    return total\n",
    "\n",
    "result = sum_all_args(1, 2, 3, 4, 5)\n",
    "print(result)  \n"
   ]
  },
  {
   "cell_type": "markdown",
   "id": "556d6dd7-73ba-4bf8-b09b-2d778cff1a12",
   "metadata": {},
   "source": [
    "Here's an example function that uses **kwargs to print out the key-value pairs passed to it:"
   ]
  },
  {
   "cell_type": "code",
   "execution_count": 3,
   "id": "17f41cc6-9bd7-43e9-99de-c53405015375",
   "metadata": {},
   "outputs": [
    {
     "name": "stdout",
     "output_type": "stream",
     "text": [
      "name: John\n",
      "age: 30\n",
      "city: New York\n"
     ]
    }
   ],
   "source": [
    "def print_kwargs(**kwargs):\n",
    "    for key, value in kwargs.items():\n",
    "        print(f\"{key}: {value}\")\n",
    "\n",
    "print_kwargs(name=\"John\", age=30, city=\"New York\")\n"
   ]
  },
  {
   "cell_type": "code",
   "execution_count": null,
   "id": "b9d2d807-9fbe-4bc5-92e5-9a3cea3d5997",
   "metadata": {},
   "outputs": [],
   "source": []
  },
  {
   "cell_type": "markdown",
   "id": "ae79cd1f-7499-4f35-8a40-e3a7d7b5531b",
   "metadata": {},
   "source": [
    "Q3. What is an iterator in python? Name the method used to initialise the iterator object and the method\n",
    "used for iteration. Use these methods to print the first five elements of the given list [2, 4, 6, 8, 10, 12, 14,\n",
    "16, 18, 20]."
   ]
  },
  {
   "cell_type": "markdown",
   "id": "f0b0f755-b031-4ff7-9f8c-cb806b5c03f5",
   "metadata": {},
   "source": [
    "ANS = \n",
    "In Python, an iterator is an object that allows you to traverse through a sequence of elements, one element at a time. It provides two primary methods:\n",
    "\n",
    "Initialization Method: To initialize an iterator object, you can use the iter() function. This function takes an iterable (such as a list) as an argument and returns an iterator object.\n",
    "\n",
    "Iteration Method: To retrieve the next element from the iterator, you can use the next() function. This function is used to iterate through the elements of the iterable until it reaches the end, at which point it raises a StopIteration exception.\n",
    "\n",
    "Here's how you can use these methods to print the first five elements of the given list [2, 4, 6, 8, 10, 12, 14, 16, 18, 20]:\n",
    "\n",
    "python\n",
    "Copy code\n",
    "# Initialize an iterator for the list\n",
    "my_list = [2, 4, 6, 8, 10, 12, 14, 16, 18, 20]\n",
    "my_iterator = iter(my_list)\n",
    "\n",
    "# Use the iterator to print the first five elements\n",
    "for _ in range(5):\n",
    "    element = next(my_iterator)\n",
    "    print(element)\n",
    "In this code:\n",
    "\n",
    "We first initialize an iterator object my_iterator for the given list my_list using the iter() function.\n",
    "We then use a for loop to iterate five times (to print the first five elements).\n",
    "Inside the loop, we use the next() function to retrieve the next element from the iterator and print it.\n",
    "This code will print the first five elements of the list [2, 4, 6, 8, 10, 12, 14, 16, 18, 20] as follows:\n",
    "\n",
    "Copy code\n",
    "2\n",
    "4\n",
    "6\n",
    "8\n",
    "10\n",
    "\n",
    "\n",
    "\n",
    "\n"
   ]
  },
  {
   "cell_type": "code",
   "execution_count": null,
   "id": "50e8e5a4-05bf-4d24-97ff-ac66476648cf",
   "metadata": {},
   "outputs": [],
   "source": []
  },
  {
   "cell_type": "markdown",
   "id": "034135f1-b393-4b44-aa92-752d1174cda2",
   "metadata": {},
   "source": [
    "Q4. What is a generator function in python? Why yield keyword is used? Give an example of a generator\n",
    "function."
   ]
  },
  {
   "cell_type": "markdown",
   "id": "c8e44984-33e9-402f-b5ac-260ae123cee6",
   "metadata": {},
   "source": [
    "ANS = The yield keyword serves two primary purposes in a generator function:\n",
    "\n",
    "1 - Value Yielding: When a yield statement is encountered in a generator function, it temporarily suspends the function's execution and yields (produces) a value to the caller. The state of the generator function is saved, allowing it to resume from where it left off the next time a value is requested.\n",
    "\n",
    "2 - Iteration State Preservation: Unlike regular functions that return a value and exit, generator functions maintain their state between calls. This means you can iteratively request values from a generator without reinitializing it, and it will continue generating values until it reaches the end."
   ]
  },
  {
   "cell_type": "code",
   "execution_count": 5,
   "id": "ed2f3b42-60fc-4a68-8cfc-b4e57e9c3ba3",
   "metadata": {},
   "outputs": [
    {
     "name": "stdout",
     "output_type": "stream",
     "text": [
      "1\n",
      "4\n",
      "9\n",
      "16\n",
      "25\n"
     ]
    }
   ],
   "source": [
    "def square_numbers(n):\n",
    "    for i in range(1, n + 1):\n",
    "        yield i ** 2\n",
    "\n",
    "# Create a generator object\n",
    "my_generator = square_numbers(5)\n",
    "\n",
    "# Iterate through the generated values\n",
    "for num in my_generator:\n",
    "    print(num)\n"
   ]
  },
  {
   "cell_type": "code",
   "execution_count": null,
   "id": "6eaaedd7-ddbd-4631-920c-f032dbd0c14b",
   "metadata": {},
   "outputs": [],
   "source": []
  },
  {
   "cell_type": "markdown",
   "id": "a0fc9547-ac79-47f0-8bb1-4a8bc4eea2aa",
   "metadata": {},
   "source": [
    "Q5. Create a generator function for prime numbers less than 1000. Use the next() method to print the\n",
    "first 20 prime numbers."
   ]
  },
  {
   "cell_type": "markdown",
   "id": "c8a34199-c9be-45d8-af52-39d00797095c",
   "metadata": {},
   "source": [
    "ANS = "
   ]
  },
  {
   "cell_type": "code",
   "execution_count": 6,
   "id": "62be62cf-9c74-4cf2-99a6-db332d44861e",
   "metadata": {},
   "outputs": [
    {
     "name": "stdout",
     "output_type": "stream",
     "text": [
      "2\n",
      "3\n",
      "5\n",
      "7\n",
      "11\n",
      "13\n",
      "17\n",
      "19\n",
      "23\n",
      "29\n",
      "31\n",
      "37\n",
      "41\n",
      "43\n",
      "47\n",
      "53\n",
      "59\n",
      "61\n",
      "67\n",
      "71\n"
     ]
    }
   ],
   "source": [
    "def is_prime(num):\n",
    "    if num < 2:\n",
    "        return False\n",
    "    for i in range(2, int(num**0.5) + 1):\n",
    "        if num % i == 0:\n",
    "            return False\n",
    "    return True\n",
    "\n",
    "def generate_primes(limit):\n",
    "    count = 0\n",
    "    num = 2\n",
    "    while count < limit:\n",
    "        if is_prime(num):\n",
    "            yield num\n",
    "            count += 1\n",
    "        num += 1\n",
    "\n",
    "# Create a generator object\n",
    "prime_generator = generate_primes(20)\n",
    "\n",
    "# Print the first 20 prime numbers using next()\n",
    "for _ in range(20):\n",
    "    prime = next(prime_generator)\n",
    "    print(prime)\n"
   ]
  },
  {
   "cell_type": "code",
   "execution_count": null,
   "id": "1fb121c7-dc27-4d3d-a46c-2f025dcaabf0",
   "metadata": {},
   "outputs": [],
   "source": []
  },
  {
   "cell_type": "markdown",
   "id": "14233090-6af3-4e27-9122-49709badc07b",
   "metadata": {},
   "source": [
    "Q6. Write a python program to print the first 10 Fibonacci numbers using a while loop."
   ]
  },
  {
   "cell_type": "markdown",
   "id": "d8b7f1fe-5033-488d-81be-9200cfb81435",
   "metadata": {},
   "source": [
    "ANS = "
   ]
  },
  {
   "cell_type": "code",
   "execution_count": 7,
   "id": "32bc0291-6a4a-4fcd-af6f-e9c4de244feb",
   "metadata": {},
   "outputs": [
    {
     "name": "stdout",
     "output_type": "stream",
     "text": [
      "0 1 1 2 3 5 8 13 21 34 "
     ]
    }
   ],
   "source": [
    "# Initialize variables for the first two Fibonacci numbers\n",
    "a, b = 0, 1\n",
    "\n",
    "# Counter for the number of Fibonacci numbers printed\n",
    "count = 0\n",
    "\n",
    "# Number of Fibonacci numbers to print\n",
    "n = 10\n",
    "\n",
    "# Use a while loop to print the first 10 Fibonacci numbers\n",
    "while count < n:\n",
    "    # Print the current Fibonacci number (a)\n",
    "    print(a, end=\" \")\n",
    "\n",
    "    # Update the Fibonacci sequence by moving forward\n",
    "    a, b = b, a + b\n",
    "\n",
    "    # Increment the counter\n",
    "    count += 1\n",
    "\n",
    "\n"
   ]
  },
  {
   "cell_type": "code",
   "execution_count": null,
   "id": "f61cf57a-8df4-4a80-a263-ac9de9e7f2ac",
   "metadata": {},
   "outputs": [],
   "source": []
  },
  {
   "cell_type": "markdown",
   "id": "c5913f01-a537-4355-8e07-4eab06319293",
   "metadata": {},
   "source": [
    "Q7. Write a List Comprehension to iterate through the given string: ‘pwskills’.\n",
    "Expected output: ['p', 'w', 's', 'k', 'i', 'l', 'l', 's']"
   ]
  },
  {
   "cell_type": "markdown",
   "id": "e8554409-41a8-4673-a10a-f0dce014a346",
   "metadata": {},
   "source": [
    "ANS = "
   ]
  },
  {
   "cell_type": "code",
   "execution_count": 8,
   "id": "899bc3ad-a0f1-4265-bf11-a988e1c31af3",
   "metadata": {},
   "outputs": [
    {
     "name": "stdout",
     "output_type": "stream",
     "text": [
      "['p', 'w', 's', 'k', 'i', 'l', 'l', 's']\n"
     ]
    }
   ],
   "source": [
    "input_string = 'pwskills'\n",
    "\n",
    "output_list = [char for char in input_string]\n",
    "\n",
    "print(output_list)\n",
    "\n"
   ]
  },
  {
   "cell_type": "code",
   "execution_count": null,
   "id": "1d9b72ef-8b58-4d5d-94f3-a9ecc5fc2519",
   "metadata": {},
   "outputs": [],
   "source": []
  },
  {
   "cell_type": "markdown",
   "id": "1a22318b-84f6-42ef-b110-694804757da6",
   "metadata": {},
   "source": [
    "Q8. Write a python program to check whether a given number is Palindrome or not using a while loop."
   ]
  },
  {
   "cell_type": "markdown",
   "id": "99b3c730-1a83-4a05-a890-0a90e4b59844",
   "metadata": {},
   "source": [
    "ANS = "
   ]
  },
  {
   "cell_type": "code",
   "execution_count": null,
   "id": "c08a349a-e7d4-495a-9949-acc2363a541c",
   "metadata": {},
   "outputs": [],
   "source": [
    "# Function to check if a number is a palindrome\n",
    "def is_palindrome(num):\n",
    "    original_num = num\n",
    "    reversed_num = 0\n",
    "    \n",
    "    while num > 0:\n",
    "        remainder = num % 10\n",
    "        reversed_num = reversed_num * 10 + remainder\n",
    "        num = num // 10\n",
    "    \n",
    "    return original_num == reversed_num\n",
    "\n",
    "# Input a number\n",
    "num = int(input(\"Enter a number: \"))\n",
    "\n",
    "# Check if it is a palindrome\n",
    "if is_palindrome(num):\n",
    "    print(f\"{num} is a palindrome.\")\n",
    "else:\n",
    "    print(f\"{num} is not a palindrome.\")\n"
   ]
  },
  {
   "cell_type": "code",
   "execution_count": null,
   "id": "88c06052-0e70-45bd-92ed-7ed68655440e",
   "metadata": {},
   "outputs": [],
   "source": []
  },
  {
   "cell_type": "markdown",
   "id": "913cf0db-0354-4724-9e54-7d3643edc660",
   "metadata": {},
   "source": [
    "Q9. Write a code to print odd numbers from 1 to 100 using list comprehension."
   ]
  },
  {
   "cell_type": "code",
   "execution_count": null,
   "id": "0875f583-4a09-4d5a-93c2-114dc0b286a1",
   "metadata": {},
   "outputs": [],
   "source": [
    "ANS = "
   ]
  },
  {
   "cell_type": "code",
   "execution_count": null,
   "id": "0727137b-5533-444c-8480-323ee79b754d",
   "metadata": {},
   "outputs": [],
   "source": [
    "odd_numbers = [num for num in range(1, 101) if num % 2 != 0]\n",
    "\n",
    "print(odd_numbers)\n"
   ]
  },
  {
   "cell_type": "markdown",
   "id": "5682b4d3-2f2d-4184-b2c4-94182f838c5b",
   "metadata": {},
   "source": [
    "In this code:\n",
    "\n",
    "We use a list comprehension to generate a list of numbers (odd_numbers) that range from 1 to 100 (range(1, 101)).\n",
    "The if num % 2 != 0 condition checks if a number is odd (i.e., not divisible by 2). If the condition is met, the number is included in the odd_numbers list.\n",
    "Finally, we print the list of odd numbers from 1 to 100.\n",
    "\n",
    "\n",
    "\n",
    "\n"
   ]
  },
  {
   "cell_type": "code",
   "execution_count": null,
   "id": "6474e62b-343f-470a-8173-23df5eb2640a",
   "metadata": {},
   "outputs": [],
   "source": []
  }
 ],
 "metadata": {
  "kernelspec": {
   "display_name": "Python 3 (ipykernel)",
   "language": "python",
   "name": "python3"
  },
  "language_info": {
   "codemirror_mode": {
    "name": "ipython",
    "version": 3
   },
   "file_extension": ".py",
   "mimetype": "text/x-python",
   "name": "python",
   "nbconvert_exporter": "python",
   "pygments_lexer": "ipython3",
   "version": "3.10.8"
  }
 },
 "nbformat": 4,
 "nbformat_minor": 5
}
