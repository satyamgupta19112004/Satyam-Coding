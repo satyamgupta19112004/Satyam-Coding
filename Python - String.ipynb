{
 "cells": [
  {
   "cell_type": "markdown",
   "id": "6e871265-5604-4531-8e8d-d0e71822b512",
   "metadata": {},
   "source": [
    "Q 1- How can we store a s1ngle quote (‘) as a str1ng 1n a var1able?"
   ]
  },
  {
   "cell_type": "markdown",
   "id": "10342885-da77-4841-a2c4-2acdd9f081fb",
   "metadata": {},
   "source": [
    "ANS - To store a single quote (') as a string in a variable, you can use one of the following methods:\n",
    "\n",
    " 1 - Escape Character: You can use a backslash (\\) before the single quote to escape it within a string:"
   ]
  },
  {
   "cell_type": "code",
   "execution_count": 2,
   "id": "f0755238-2907-4b44-a536-0bf3ab150a6d",
   "metadata": {},
   "outputs": [],
   "source": [
    "my_variable = 'I\\'m a string with a single quote.'"
   ]
  },
  {
   "cell_type": "markdown",
   "id": "eefbb0f1-3edb-4a93-8b4f-eb41ace734ba",
   "metadata": {},
   "source": [
    "2 - Use Double Quotes: You can enclose the string in double quotes instead of single quotes:"
   ]
  },
  {
   "cell_type": "code",
   "execution_count": 3,
   "id": "68317c40-92c5-4da8-b7b0-31fcd71f4672",
   "metadata": {},
   "outputs": [],
   "source": [
    "my_variable = \"I'm a string with a single quote.\""
   ]
  },
  {
   "cell_type": "code",
   "execution_count": null,
   "id": "2f198619-fb32-4302-af10-bd9af9dd7a28",
   "metadata": {},
   "outputs": [],
   "source": []
  },
  {
   "cell_type": "markdown",
   "id": "78a0df76-c9d7-4e4a-9bf7-bad843c043b9",
   "metadata": {},
   "source": [
    " Q2 -  Refer the below var1able:\n",
    "x = ‘a(\n",
    "Here, 1s x a character type or str1ng type var1able? Support your answer w1th an explanat1on."
   ]
  },
  {
   "cell_type": "markdown",
   "id": "eb122173-787f-4257-ac52-9685483ec178",
   "metadata": {},
   "source": [
    "ANS - The variable x is of string type (str type), not character type (char). In Python, there is no distinct character type like there is in some other programming languages.\n",
    "\n",
    "In Python, a string is a sequence of characters, and even a single character is represented as a string of length 1. So, when you assign 'a(' to the variable x, you are assigning a string containing two characters: 'a' and '('. This is why x is of string type.\n",
    "\n",
    "In some other programming languages, such as C or C++, you might have a separate char data type to represent individual characters, but in Python, characters are simply represented as strings of length 1.\n",
    "\n",
    "\n",
    "\n",
    "\n"
   ]
  },
  {
   "cell_type": "code",
   "execution_count": null,
   "id": "328159f6-3a18-4236-bf17-5612d6ead40a",
   "metadata": {},
   "outputs": [],
   "source": []
  },
  {
   "cell_type": "code",
   "execution_count": null,
   "id": "d854990f-4130-4503-836b-c401c0b4f3d1",
   "metadata": {},
   "outputs": [],
   "source": []
  },
  {
   "cell_type": "markdown",
   "id": "0c104d25-e112-4e44-81df-055a52cfda7a",
   "metadata": {},
   "source": [
    "Q 3 -  Apply the follow1ng funct1ons on th1s var1able: ‘Welcome to Python foun at1on course'\n",
    "SP f1n (0\n",
    ".P count(0\n",
    "?P len(0\n",
    "P Concatenat1on\n",
    "Note: You can use your cho1ce of parametersQ But make sure 1t 1s correct."
   ]
  },
  {
   "cell_type": "markdown",
   "id": "d0b039d4-0780-4186-bcb2-53ef11dd8a7d",
   "metadata": {},
   "source": [
    "ANS - \n",
    "It appears that the question contains some characters that are not well-formatted, but I will try to provide answers based on the functions mentioned:\n",
    "\n",
    "split() Function:\n",
    "\n",
    "1 - split() function splits a string into a list of substrings based on whitespace by default or a specified separator.\n",
    "\n",
    "Example:"
   ]
  },
  {
   "cell_type": "code",
   "execution_count": 5,
   "id": "709911b0-0158-44d1-a9af-876501c02176",
   "metadata": {},
   "outputs": [
    {
     "name": "stdout",
     "output_type": "stream",
     "text": [
      "['Welcome', 'to', 'Python', 'foundation', 'course']\n"
     ]
    }
   ],
   "source": [
    "text = 'Welcome to Python foundation course'\n",
    "result = text.split()\n",
    "print(result)\n"
   ]
  },
  {
   "cell_type": "markdown",
   "id": "f96b08f3-d860-445a-b636-78db77eb4f2c",
   "metadata": {},
   "source": [
    "2 - count() Function:\n",
    "\n",
    "count() function counts the number of occurrences of a substring in a given string.\n",
    "\n",
    "Example:"
   ]
  },
  {
   "cell_type": "code",
   "execution_count": 6,
   "id": "8fc5cddf-8220-4796-a0d7-c6f17ec7758a",
   "metadata": {},
   "outputs": [
    {
     "name": "stdout",
     "output_type": "stream",
     "text": [
      "6\n"
     ]
    }
   ],
   "source": [
    "text = 'Welcome to Python foundation course'\n",
    "count = text.count('o')\n",
    "print(count)\n"
   ]
  },
  {
   "cell_type": "markdown",
   "id": "c1d9651d-ac58-4234-a48b-5cc8fd5c236f",
   "metadata": {},
   "source": [
    "3 - len() Function:\n",
    "\n",
    "len() function returns the length (number of characters) of a string.\n",
    "\n",
    "Example:"
   ]
  },
  {
   "cell_type": "code",
   "execution_count": 8,
   "id": "80c046ac-8b73-4042-8271-aee2b47657a6",
   "metadata": {},
   "outputs": [
    {
     "name": "stdout",
     "output_type": "stream",
     "text": [
      "35\n"
     ]
    }
   ],
   "source": [
    "text = 'Welcome to Python foundation course'\n",
    "length = len(text)\n",
    "print(length)\n"
   ]
  },
  {
   "cell_type": "markdown",
   "id": "59c2ba87-1a53-4917-acf9-2d2b92831014",
   "metadata": {},
   "source": [
    "4 - Concatenation:\n",
    "\n",
    "Concatenation is the process of joining two or more strings together.\n",
    "\n",
    "Example:"
   ]
  },
  {
   "cell_type": "code",
   "execution_count": 9,
   "id": "df91fcc6-351a-4709-bfff-3c0d7adab61d",
   "metadata": {},
   "outputs": [
    {
     "name": "stdout",
     "output_type": "stream",
     "text": [
      "Welcome to Python foundation course\n"
     ]
    }
   ],
   "source": [
    "text1 = 'Welcome to Python'\n",
    "text2 = ' foundation course'\n",
    "result = text1 + text2\n",
    "print(result)\n"
   ]
  },
  {
   "cell_type": "markdown",
   "id": "6a8e4e80-0229-48f5-ad0a-c28ecb7df8f7",
   "metadata": {},
   "source": [
    "Q4Q For the var1able: wor = ‘PanaJ1@T//56(\n",
    "Calculate the follow1ng:\n",
    "(a) Total number of alphabets 1n lowercase\n",
    "(b) Total number of alphabets 1n uppercase\n",
    "(c) Total number of numer1cal 1n str1ng"
   ]
  },
  {
   "cell_type": "markdown",
   "id": "7d6c5398-abbd-45f2-8619-93fa40308aa0",
   "metadata": {},
   "source": [
    "ANS  - To calculate the total number of lowercase alphabets, uppercase alphabets, and numerical characters in the string wor = 'PanaJ1@T//56(', you can iterate through each character in the string and count them based on their properties. Here's how you can do it in Python:"
   ]
  },
  {
   "cell_type": "code",
   "execution_count": 13,
   "id": "feaa5ad8-a210-4387-8b7c-058eef2a576e",
   "metadata": {},
   "outputs": [
    {
     "name": "stdout",
     "output_type": "stream",
     "text": [
      "Total lowercase alphabets: 3\n",
      "Total uppercase alphabets: 3\n",
      "Total numerical characters: 3\n"
     ]
    }
   ],
   "source": [
    "wor = 'PanaJ1@T//56('\n",
    "\n",
    "# Initialize counters\n",
    "lowercase_count = 0\n",
    "uppercase_count = 0\n",
    "numerical_count = 0\n",
    "\n",
    "# Iterate through each character in the string\n",
    "for char in wor:\n",
    "    if char.islower():\n",
    "        lowercase_count += 1\n",
    "    elif char.isupper():\n",
    "        uppercase_count += 1\n",
    "    elif char.isdigit():\n",
    "        numerical_count += 1\n",
    "\n",
    "# Print the results\n",
    "print(\"Total lowercase alphabets:\", lowercase_count)\n",
    "print(\"Total uppercase alphabets:\", uppercase_count)\n",
    "print(\"Total numerical characters:\", numerical_count)\n"
   ]
  },
  {
   "cell_type": "code",
   "execution_count": null,
   "id": "41dfd2e7-0e4a-4fd7-9dec-df4db18f39d9",
   "metadata": {},
   "outputs": [],
   "source": []
  },
  {
   "cell_type": "markdown",
   "id": "79a4ca22-db9a-407d-b7ba-05777eb9a0a6",
   "metadata": {},
   "source": [
    "Q5Q Wr1te a co e to store a numer1cal value 1ns1 e a var1able then convert 1t 1nto str1ngQ"
   ]
  },
  {
   "cell_type": "code",
   "execution_count": null,
   "id": "42c12643-2271-4b16-9bad-b4dbeb23aa8d",
   "metadata": {},
   "outputs": [],
   "source": []
  }
 ],
 "metadata": {
  "kernelspec": {
   "display_name": "Python 3 (ipykernel)",
   "language": "python",
   "name": "python3"
  },
  "language_info": {
   "codemirror_mode": {
    "name": "ipython",
    "version": 3
   },
   "file_extension": ".py",
   "mimetype": "text/x-python",
   "name": "python",
   "nbconvert_exporter": "python",
   "pygments_lexer": "ipython3",
   "version": "3.10.8"
  }
 },
 "nbformat": 4,
 "nbformat_minor": 5
}
