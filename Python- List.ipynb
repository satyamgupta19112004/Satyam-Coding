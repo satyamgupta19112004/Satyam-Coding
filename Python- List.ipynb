{
 "cells": [
  {
   "cell_type": "markdown",
   "id": "dde36259-4e19-4e9a-99a8-fded571edded",
   "metadata": {},
   "source": [
    "Q 1- Create an empty list."
   ]
  },
  {
   "cell_type": "markdown",
   "id": "b9dd9255-de42-4d89-a9da-2d60741d9186",
   "metadata": {},
   "source": [
    "ANS - "
   ]
  },
  {
   "cell_type": "code",
   "execution_count": 1,
   "id": "7e9a7468-2025-4dbf-94ef-2b0c6b89b559",
   "metadata": {},
   "outputs": [],
   "source": [
    "my_empty_list = []\n"
   ]
  },
  {
   "cell_type": "code",
   "execution_count": null,
   "id": "1617c614-1c44-4166-9b48-dae241c268d0",
   "metadata": {},
   "outputs": [],
   "source": []
  },
  {
   "cell_type": "markdown",
   "id": "1357d640-9e65-4a12-a00e-32e8ae4220e5",
   "metadata": {},
   "source": [
    "Q2. Create a list and add an element to the end of this list."
   ]
  },
  {
   "cell_type": "markdown",
   "id": "a47bc85c-c58d-4905-817f-4f7f78b53e60",
   "metadata": {},
   "source": [
    "ANS - "
   ]
  },
  {
   "cell_type": "code",
   "execution_count": 6,
   "id": "af442156-3cdc-4643-9fe5-5f9713aca44b",
   "metadata": {},
   "outputs": [
    {
     "name": "stdout",
     "output_type": "stream",
     "text": [
      "[42]\n"
     ]
    }
   ],
   "source": [
    "# Step 1: Create an empty list\n",
    "my_list = []\n",
    "\n",
    "# Step 2: Add an element to the end of the list\n",
    "my_list.append(42)\n",
    "\n",
    "# Print the list to verify\n",
    "print(my_list)  # Output: [42]\n"
   ]
  },
  {
   "cell_type": "code",
   "execution_count": null,
   "id": "d6f58163-626a-4d28-9c3d-000281d16279",
   "metadata": {},
   "outputs": [],
   "source": []
  },
  {
   "cell_type": "markdown",
   "id": "3a3ecd58-6c60-4704-9d92-33b1ede5e96d",
   "metadata": {},
   "source": [
    "Q3. For the above created list print the last element."
   ]
  },
  {
   "cell_type": "markdown",
   "id": "fa9a857e-25f0-467b-bd46-d0854d753368",
   "metadata": {},
   "source": [
    "ANS - "
   ]
  },
  {
   "cell_type": "code",
   "execution_count": 7,
   "id": "4a40e8d5-ac85-4d5c-83f7-3c98cd44b7e7",
   "metadata": {},
   "outputs": [
    {
     "name": "stdout",
     "output_type": "stream",
     "text": [
      "42\n"
     ]
    }
   ],
   "source": [
    "\n",
    "print(my_list[-1])\n"
   ]
  },
  {
   "cell_type": "code",
   "execution_count": null,
   "id": "be77184e-b73d-4c4a-b0cc-eb1cc56a9c14",
   "metadata": {},
   "outputs": [],
   "source": []
  },
  {
   "cell_type": "markdown",
   "id": "71ddd8d6-2e08-49e8-b11f-69e123dc34f4",
   "metadata": {},
   "source": [
    "Q4. Reverse the above created list."
   ]
  },
  {
   "cell_type": "markdown",
   "id": "2161fa89-7576-4d01-b7c0-94543269b55d",
   "metadata": {},
   "source": [
    "ANS - "
   ]
  },
  {
   "cell_type": "code",
   "execution_count": 9,
   "id": "8e2e4748-2b5d-4bbc-8ca9-07f95a45abe0",
   "metadata": {},
   "outputs": [],
   "source": [
    "my_list.reverse()"
   ]
  },
  {
   "cell_type": "code",
   "execution_count": 10,
   "id": "9a6c9c1f-d07e-4f62-b002-e5434b7f338f",
   "metadata": {},
   "outputs": [
    {
     "name": "stdout",
     "output_type": "stream",
     "text": [
      "[42]\n"
     ]
    }
   ],
   "source": [
    "print(my_list)"
   ]
  },
  {
   "cell_type": "markdown",
   "id": "1532e4af-2330-44dc-b9d2-8e6c42ec714d",
   "metadata": {},
   "source": [
    "Alternatively, you can also use slicing with a step of -1 to reverse the list:"
   ]
  },
  {
   "cell_type": "code",
   "execution_count": 16,
   "id": "31c93a17-eed0-4d30-937e-676450ebc5a2",
   "metadata": {},
   "outputs": [
    {
     "name": "stdout",
     "output_type": "stream",
     "text": [
      "[42]\n"
     ]
    }
   ],
   "source": [
    "# Reverse the list using slicing\n",
    "my_list = my_list[::-1]\n",
    "\n",
    "# Print the reversed list\n",
    "print(my_list)\n",
    "\n"
   ]
  },
  {
   "cell_type": "code",
   "execution_count": null,
   "id": "80503808-d3e1-4991-b80f-fca7a18f1a0e",
   "metadata": {},
   "outputs": [],
   "source": []
  },
  {
   "cell_type": "markdown",
   "id": "e8858887-aa3b-40ce-9608-0f41cda08912",
   "metadata": {},
   "source": [
    "Q5. Sort the above created list."
   ]
  },
  {
   "cell_type": "markdown",
   "id": "0b87935c-cabc-4c58-8b11-44b5197adc96",
   "metadata": {},
   "source": [
    "ANS - "
   ]
  },
  {
   "cell_type": "code",
   "execution_count": 17,
   "id": "c7b0eced-6a44-4582-b1d5-ce6c49c6bbcd",
   "metadata": {},
   "outputs": [
    {
     "name": "stdout",
     "output_type": "stream",
     "text": [
      "[42]\n"
     ]
    }
   ],
   "source": [
    "\n",
    "my_list.sort()\n",
    "\n",
    "\n",
    "print(my_list)\n"
   ]
  },
  {
   "cell_type": "code",
   "execution_count": 18,
   "id": "586566cf-5667-4fbd-b629-04b56cade9fd",
   "metadata": {},
   "outputs": [
    {
     "name": "stdout",
     "output_type": "stream",
     "text": [
      "[42]\n"
     ]
    }
   ],
   "source": [
    "\n",
    "my_list.sort(reverse=True)\n",
    "\n",
    "print(my_list)\n"
   ]
  },
  {
   "cell_type": "code",
   "execution_count": null,
   "id": "34ce5a2f-bb74-4159-bf7f-ef2c061751c3",
   "metadata": {},
   "outputs": [],
   "source": []
  },
  {
   "cell_type": "markdown",
   "id": "6d9f044e-1634-4f2e-bb6f-cbcb8898adde",
   "metadata": {},
   "source": [
    "Q6. Create a list of your top three favorite movies, then print the second movie title."
   ]
  },
  {
   "cell_type": "markdown",
   "id": "ee44eee1-ceee-4c76-b35b-43e16f6f31db",
   "metadata": {},
   "source": [
    "ANS - "
   ]
  },
  {
   "cell_type": "code",
   "execution_count": 21,
   "id": "b839ef63-78d4-456d-810a-e06524421cfb",
   "metadata": {},
   "outputs": [
    {
     "name": "stdout",
     "output_type": "stream",
     "text": [
      "The second favorite movie is: The Godfather\n"
     ]
    }
   ],
   "source": [
    "\n",
    "favorite_movies = [\"The Shawshank Redemption\", \"The Godfather\", \"Pulp Fiction\"]\n",
    "\n",
    "print(\"The second favorite movie is:\", favorite_movies[1])\n"
   ]
  },
  {
   "cell_type": "code",
   "execution_count": null,
   "id": "232269d3-635c-4194-abc7-55838bd50ef4",
   "metadata": {},
   "outputs": [],
   "source": []
  },
  {
   "cell_type": "markdown",
   "id": "ea2e2577-15aa-4afa-8ec5-b3057d29ad34",
   "metadata": {},
   "source": [
    "Q7. Create a list of your favorite animals, then add a new animal to the list and print the updated list."
   ]
  },
  {
   "cell_type": "markdown",
   "id": "4064052e-a3f9-49a3-b938-8d11800e733f",
   "metadata": {},
   "source": [
    "ANS - "
   ]
  },
  {
   "cell_type": "code",
   "execution_count": 22,
   "id": "f8dd1042-fd19-4032-85c7-6ecc4897d783",
   "metadata": {},
   "outputs": [
    {
     "name": "stdout",
     "output_type": "stream",
     "text": [
      "Updated list of favorite animals: ['Lion', 'Elephant', 'Dolphin', 'Penguin']\n"
     ]
    }
   ],
   "source": [
    "favorite_animals = [\"Lion\", \"Elephant\", \"Dolphin\"]\n",
    "\n",
    "favorite_animals.append(\"Penguin\")\n",
    "\n",
    "print(\"Updated list of favorite animals:\", favorite_animals)\n"
   ]
  },
  {
   "cell_type": "code",
   "execution_count": null,
   "id": "96ad5d3c-d5cb-424b-b516-535a5e39894e",
   "metadata": {},
   "outputs": [],
   "source": []
  },
  {
   "cell_type": "markdown",
   "id": "087ab32c-1f52-4729-abba-ec6c47e297c6",
   "metadata": {},
   "source": [
    "Q8. Create a list of your favorite cities, then use the index() method to find the position of a specific city\n",
    "on the list and print it."
   ]
  },
  {
   "cell_type": "markdown",
   "id": "6c5a5045-6253-4312-8870-bfffdb047dcc",
   "metadata": {},
   "source": [
    "ANS - "
   ]
  },
  {
   "cell_type": "code",
   "execution_count": 23,
   "id": "725a4efa-f644-41d2-80ba-be2a4c213311",
   "metadata": {},
   "outputs": [
    {
     "name": "stdout",
     "output_type": "stream",
     "text": [
      "The position of London in the list is 2.\n"
     ]
    }
   ],
   "source": [
    "\n",
    "favorite_cities = [\"Paris\", \"New York\", \"London\", \"Tokyo\", \"Sydney\"]\n",
    "\n",
    "city_to_find = \"London\"\n",
    "\n",
    "position = favorite_cities.index(city_to_find)\n",
    "\n",
    "print(f\"The position of {city_to_find} in the list is {position}.\")\n"
   ]
  },
  {
   "cell_type": "code",
   "execution_count": null,
   "id": "2ad186dd-856d-462b-a86f-0ec814121794",
   "metadata": {},
   "outputs": [],
   "source": []
  }
 ],
 "metadata": {
  "kernelspec": {
   "display_name": "Python 3 (ipykernel)",
   "language": "python",
   "name": "python3"
  },
  "language_info": {
   "codemirror_mode": {
    "name": "ipython",
    "version": 3
   },
   "file_extension": ".py",
   "mimetype": "text/x-python",
   "name": "python",
   "nbconvert_exporter": "python",
   "pygments_lexer": "ipython3",
   "version": "3.10.8"
  }
 },
 "nbformat": 4,
 "nbformat_minor": 5
}
