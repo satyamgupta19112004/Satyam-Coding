{
 "cells": [
  {
   "cell_type": "markdown",
   "id": "916204f3-5893-4af0-b586-db8388b0e3d3",
   "metadata": {},
   "source": [
    "Q1. What is the syntax for adding an element to a list in Python?"
   ]
  },
  {
   "cell_type": "markdown",
   "id": "f70b0982-0ff0-41df-b1ed-eaf997ef4211",
   "metadata": {},
   "source": [
    "ANS - 1- Using the append() method to add an element to the end of a list:"
   ]
  },
  {
   "cell_type": "markdown",
   "id": "64a7932a-9b35-45ae-9a6d-0c41cc191c8f",
   "metadata": {},
   "source": [
    "my_list.append(element)\n",
    "my_list is the name of the list to which you want to add the element.\n",
    "element is the value you want to add to the end of the list."
   ]
  },
  {
   "cell_type": "code",
   "execution_count": null,
   "id": "d5bf187a-cc63-4982-8c3a-5f437e793b09",
   "metadata": {},
   "outputs": [],
   "source": []
  },
  {
   "cell_type": "markdown",
   "id": "571a2cb5-a04f-417d-85ac-5f3a44782202",
   "metadata": {},
   "source": [
    "Q2. What is the difference between remove() and pop() functions in Python?"
   ]
  },
  {
   "cell_type": "markdown",
   "id": "85f018c2-c7cb-469c-885e-85bc79d433dd",
   "metadata": {},
   "source": [
    "ANS - 1 - remove() Function:\n",
    "\n",
    "The remove() method is used to remove the first occurrence of a specified value from a list.\n",
    "Syntax: my_list.remove(value)\n",
    "It searches for value in my_list, removes the first occurrence of value, and shifts the elements to the left to close the gap.\n",
    "If the specified value is not found in the list, it raises a ValueError.\n",
    "It does not return the removed value; it only modifies the list."
   ]
  },
  {
   "cell_type": "code",
   "execution_count": 4,
   "id": "748593d4-d373-4c3a-ae08-b931923fccc8",
   "metadata": {},
   "outputs": [],
   "source": [
    "my_list = [1, 2, 3, 2, 4]\n",
    "my_list.remove(2)  \n"
   ]
  },
  {
   "cell_type": "markdown",
   "id": "9874467d-c1f4-4aee-8d42-d245bdb2a382",
   "metadata": {},
   "source": [
    "2- pop() Function:\n",
    "\n",
    "The pop() method is used to remove and return an element from a list at a specified index.\n",
    "Syntax: my_list.pop(index)\n",
    "It removes the element at the specified index from my_list and returns the removed element.\n",
    "If the index is not provided, it removes and returns the last element from the list.\n",
    "If the specified index is out of range, it raises an IndexError.\n"
   ]
  },
  {
   "cell_type": "code",
   "execution_count": 5,
   "id": "56e7de4e-bcb8-4da5-a47c-d36cf49abf6c",
   "metadata": {},
   "outputs": [],
   "source": [
    "my_list = [1, 2, 3, 4, 5]\n",
    "popped_element = my_list.pop(2) \n"
   ]
  },
  {
   "cell_type": "code",
   "execution_count": null,
   "id": "e8bae4ef-2116-4bcb-b690-3021cf0db957",
   "metadata": {},
   "outputs": [],
   "source": []
  },
  {
   "cell_type": "markdown",
   "id": "b324fe7b-62d7-403a-be78-b0f207b88e97",
   "metadata": {},
   "source": [
    "Q3. Write a Python code to sort a list in descending order."
   ]
  },
  {
   "cell_type": "markdown",
   "id": "6e18398d-e6aa-406d-b8dd-7ee0d1ac1996",
   "metadata": {},
   "source": [
    "ANS- Using the sort() method:"
   ]
  },
  {
   "cell_type": "code",
   "execution_count": 7,
   "id": "79cbf537-ade4-4f40-bcc3-fcaf7438ee66",
   "metadata": {},
   "outputs": [
    {
     "name": "stdout",
     "output_type": "stream",
     "text": [
      "[8, 5, 3, 2, 1]\n"
     ]
    }
   ],
   "source": [
    "my_list = [5, 1, 3, 8, 2]\n",
    "\n",
    "# Sort the list in descending order using sort()\n",
    "my_list.sort(reverse=True)\n",
    "\n",
    "print(my_list)  \n"
   ]
  },
  {
   "cell_type": "markdown",
   "id": "16310106-738d-4bf1-b580-819bebd2fead",
   "metadata": {},
   "source": [
    "Using the sorted() function:"
   ]
  },
  {
   "cell_type": "code",
   "execution_count": 8,
   "id": "eb74ec48-38b0-4a39-962a-845a2b95c54c",
   "metadata": {},
   "outputs": [
    {
     "name": "stdout",
     "output_type": "stream",
     "text": [
      "[8, 5, 3, 2, 1]\n"
     ]
    }
   ],
   "source": [
    "my_list = [5, 1, 3, 8, 2]\n",
    "\n",
    "sorted_list = sorted(my_list, reverse=True)\n",
    "\n",
    "print(sorted_list)  \n"
   ]
  },
  {
   "cell_type": "code",
   "execution_count": null,
   "id": "13071389-0003-442a-87ef-b1f4b8043f9b",
   "metadata": {},
   "outputs": [],
   "source": []
  },
  {
   "cell_type": "markdown",
   "id": "179fadb7-1543-4426-8cb8-c3df0e87d535",
   "metadata": {},
   "source": [
    "Q4. Write a Python code to count the number of occurrences of an element in a list."
   ]
  },
  {
   "cell_type": "markdown",
   "id": "08aa5726-feee-4029-a39a-cb84a615ca67",
   "metadata": {},
   "source": [
    "ANS- "
   ]
  },
  {
   "cell_type": "code",
   "execution_count": 9,
   "id": "1734d50c-9a19-4783-b2d2-7679129055e2",
   "metadata": {},
   "outputs": [
    {
     "name": "stdout",
     "output_type": "stream",
     "text": [
      "The element 2 appears 3 times in the list.\n"
     ]
    }
   ],
   "source": [
    "my_list = [1, 2, 3, 2, 4, 2, 5]\n",
    "\n",
    "count = my_list.count(2)\n",
    "\n",
    "print(f\"The element 2 appears {count} times in the list.\")\n"
   ]
  },
  {
   "cell_type": "code",
   "execution_count": null,
   "id": "180f363d-9a80-4288-91da-4c53b182f1db",
   "metadata": {},
   "outputs": [],
   "source": []
  },
  {
   "cell_type": "markdown",
   "id": "b795234a-231f-4fd7-9878-1935f1360ebc",
   "metadata": {},
   "source": [
    "Q5. Write a Python code to reverse a list."
   ]
  },
  {
   "cell_type": "markdown",
   "id": "24f6b8d3-7085-4ae3-bc37-b2174dc51b48",
   "metadata": {},
   "source": [
    "ANS- 1 - Q5. Write a Python code to reverse a list."
   ]
  },
  {
   "cell_type": "code",
   "execution_count": 11,
   "id": "f64427cd-8b97-40bb-a8e1-3c35781ad7dc",
   "metadata": {},
   "outputs": [
    {
     "name": "stdout",
     "output_type": "stream",
     "text": [
      "[5, 4, 3, 2, 1]\n"
     ]
    }
   ],
   "source": [
    "my_list = [1, 2, 3, 4, 5]\n",
    "\n",
    "my_list.reverse()\n",
    "\n",
    "print(my_list)  \n"
   ]
  },
  {
   "cell_type": "markdown",
   "id": "7c710899-8c34-44b6-8bc1-ed0353cb7f29",
   "metadata": {},
   "source": [
    "2- Using slicing with a step of -1:"
   ]
  },
  {
   "cell_type": "code",
   "execution_count": 12,
   "id": "7064efd8-1002-4cd4-9691-f0da17de0275",
   "metadata": {},
   "outputs": [
    {
     "name": "stdout",
     "output_type": "stream",
     "text": [
      "[5, 4, 3, 2, 1]\n"
     ]
    }
   ],
   "source": [
    "my_list = [1, 2, 3, 4, 5]\n",
    "\n",
    "reversed_list = my_list[::-1]\n",
    "\n",
    "print(reversed_list)  \n"
   ]
  },
  {
   "cell_type": "code",
   "execution_count": null,
   "id": "385213a4-5a46-4261-9a4a-0167ab574c2e",
   "metadata": {},
   "outputs": [],
   "source": []
  },
  {
   "cell_type": "code",
   "execution_count": null,
   "id": "b4892ec0-9cd6-4ef2-910e-a5558088f2ce",
   "metadata": {},
   "outputs": [],
   "source": []
  }
 ],
 "metadata": {
  "kernelspec": {
   "display_name": "Python 3 (ipykernel)",
   "language": "python",
   "name": "python3"
  },
  "language_info": {
   "codemirror_mode": {
    "name": "ipython",
    "version": 3
   },
   "file_extension": ".py",
   "mimetype": "text/x-python",
   "name": "python",
   "nbconvert_exporter": "python",
   "pygments_lexer": "ipython3",
   "version": "3.10.8"
  }
 },
 "nbformat": 4,
 "nbformat_minor": 5
}
